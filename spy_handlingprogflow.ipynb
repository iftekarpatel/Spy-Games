{
 "cells": [
  {
   "cell_type": "markdown",
   "metadata": {},
   "source": [
    "# Message Reading"
   ]
  },
  {
   "cell_type": "code",
   "execution_count": 12,
   "metadata": {},
   "outputs": [
    {
     "name": "stdout",
     "output_type": "stream",
     "text": [
      "This is a sample message.\n"
     ]
    }
   ],
   "source": [
    "def read_file(path):\n",
    "    file = open(path,mode ='r')\n",
    "    sentence = file.readline()\n",
    "    file.close()\n",
    "    return(sentence)\n",
    "sample_message = read_file(r'C:\\Users\\Lenovo\\Desktop\\jupyrt_files\\spy-data\\file.yaml.txt')\n",
    "print(sample_message)"
   ]
  },
  {
   "cell_type": "markdown",
   "metadata": {},
   "source": [
    "\n",
    "# Message Fusion"
   ]
  },
  {
   "cell_type": "code",
   "execution_count": 13,
   "metadata": {},
   "outputs": [
    {
     "name": "stdout",
     "output_type": "stream",
     "text": [
      "2222\n",
      "2477\n"
     ]
    }
   ],
   "source": [
    "message_1 = read_file(r'C:\\Users\\Lenovo\\Desktop\\jupyrt_files\\spy-data\\file_1.yaml.txt')\n",
    "message_2 = read_file(r'C:\\Users\\Lenovo\\Desktop\\jupyrt_files\\spy-data\\file_2.yaml.txt')\n",
    "print(message_1)\n",
    "print(message_2)"
   ]
  },
  {
   "cell_type": "code",
   "execution_count": 16,
   "metadata": {},
   "outputs": [
    {
     "name": "stdout",
     "output_type": "stream",
     "text": [
      "1\n"
     ]
    }
   ],
   "source": [
    "def fuse_msg(message_a, message_b):\n",
    "    quotient = (int(message_b)//int(message_a))\n",
    "    return(str(quotient))\n",
    "secret_msg_1 = fuse_msg(message_1, message_2)\n",
    "print(secret_msg_1)"
   ]
  },
  {
   "cell_type": "markdown",
   "metadata": {},
   "source": [
    "# Message Substitution"
   ]
  },
  {
   "cell_type": "code",
   "execution_count": 17,
   "metadata": {},
   "outputs": [
    {
     "name": "stdout",
     "output_type": "stream",
     "text": [
      "Green\n"
     ]
    }
   ],
   "source": [
    "message_3 = read_file(r'C:\\Users\\Lenovo\\Desktop\\jupyrt_files\\spy-data\\file_3.yaml.txt')\n",
    "print(message_3)"
   ]
  },
  {
   "cell_type": "code",
   "execution_count": 29,
   "metadata": {},
   "outputs": [
    {
     "name": "stdout",
     "output_type": "stream",
     "text": [
      "Data Scientist\n"
     ]
    }
   ],
   "source": [
    "def substitute_msg(message_c):\n",
    "    if message_c == 'Red':\n",
    "        sub = 'Army General'\n",
    "    elif message_c == 'Green':\n",
    "        sub = 'Data Scientist'\n",
    "    elif message_c == 'Blue':\n",
    "        sub = 'Marine Biologist'\n",
    "    return sub\n",
    "secret_msg_2 = substitute_msg(message_3) \n",
    "print(secret_msg_2)             "
   ]
  },
  {
   "cell_type": "markdown",
   "metadata": {},
   "source": [
    "# Message Comparision"
   ]
  },
  {
   "cell_type": "code",
   "execution_count": 30,
   "metadata": {},
   "outputs": [
    {
     "name": "stdout",
     "output_type": "stream",
     "text": [
      "I hope you are good now\n",
      "I hope good things happen in your life.\n"
     ]
    }
   ],
   "source": [
    "message_4 = read_file(r'C:\\Users\\Lenovo\\Desktop\\jupyrt_files\\spy-data\\file_4.yaml.txt')\n",
    "message_5 = read_file(r'C:\\Users\\Lenovo\\Desktop\\jupyrt_files\\spy-data\\file_5.yaml.txt')\n",
    "print(message_4)\n",
    "print(message_5)"
   ]
  },
  {
   "cell_type": "code",
   "execution_count": 36,
   "metadata": {},
   "outputs": [
    {
     "name": "stdout",
     "output_type": "stream",
     "text": [
      "['you', 'are', 'now']\n"
     ]
    }
   ],
   "source": [
    "def compare_msg(message_d):\n",
    "    a_list = message_d.split()\n",
    "    return(a_list)   \n",
    "def compare_msg(message_e):\n",
    "    b_list = message_e.split()\n",
    "    return(b_list) \n",
    "c_list = [i for i in compare_msg(message_4) if i not in compare_msg(message_5)]\n",
    "print(c_list)   "
   ]
  },
  {
   "cell_type": "code",
   "execution_count": 37,
   "metadata": {},
   "outputs": [
    {
     "name": "stdout",
     "output_type": "stream",
     "text": [
      "sentence= you are now\n"
     ]
    }
   ],
   "source": [
    " final_msg = \" \".join(c_list)\n",
    "print('sentence=',final_msg) "
   ]
  },
  {
   "cell_type": "code",
   "execution_count": 44,
   "metadata": {},
   "outputs": [],
   "source": [
    "secret_msg_3 = final_msg"
   ]
  },
  {
   "cell_type": "code",
   "execution_count": 45,
   "metadata": {},
   "outputs": [
    {
     "data": {
      "text/plain": [
       "'you are now'"
      ]
     },
     "execution_count": 45,
     "metadata": {},
     "output_type": "execute_result"
    }
   ],
   "source": [
    "secret_msg_3"
   ]
  },
  {
   "cell_type": "code",
   "execution_count": 43,
   "metadata": {},
   "outputs": [
    {
     "name": "stdout",
     "output_type": "stream",
     "text": [
      "you are now\n"
     ]
    }
   ],
   "source": [
    "\n",
    "#Code starts here\n",
    "\n",
    "#Function to compare message\n",
    "def compare_msg(message_d,message_e):\n",
    "    \n",
    "    #Splitting the message into a list\n",
    "    a_list=message_d.split()\n",
    "    \n",
    "    #Splitting the message into a list\n",
    "    b_list=message_e.split()\n",
    "    \n",
    "    #Comparing the elements from both the lists\n",
    "    c_list = [i for i in a_list if i not in b_list]\n",
    "    \n",
    "    #Combining the words of a list back to a single string sentence\n",
    "    final_msg=\" \".join(c_list)\n",
    "    \n",
    "    #Returning the sentence\n",
    "    return final_msg\n",
    "\n",
    "\n",
    "#Calling the function to read file\n",
    "message_4=read_file(r'C:\\Users\\Lenovo\\Desktop\\jupyrt_files\\spy-data\\file_4.yaml.txt')\n",
    "\n",
    "#Calling the function to read file\n",
    "message_5=read_file(r'C:\\Users\\Lenovo\\Desktop\\jupyrt_files\\spy-data\\file_5.yaml.txt')\n",
    "\n",
    "#Calling the function 'compare messages'\n",
    "secret_msg_3=compare_msg(message_4,message_5)\n",
    "\n",
    "#Printing the secret message\n",
    "print(secret_msg_3)\n",
    "\n",
    "#Code ends here"
   ]
  },
  {
   "cell_type": "markdown",
   "metadata": {},
   "source": [
    "# Message Filter"
   ]
  },
  {
   "cell_type": "code",
   "execution_count": 46,
   "metadata": {},
   "outputs": [
    {
     "name": "stdout",
     "output_type": "stream",
     "text": [
      "The man was one step closer towards his quest to become a spy\n"
     ]
    }
   ],
   "source": [
    "message_6 = read_file(r'C:\\Users\\Lenovo\\Desktop\\jupyrt_files\\spy-data\\file_6.yaml.txt')\n",
    "print(message_6)"
   ]
  },
  {
   "cell_type": "code",
   "execution_count": 47,
   "metadata": {},
   "outputs": [
    {
     "name": "stdout",
     "output_type": "stream",
     "text": [
      "step closer to become\n"
     ]
    }
   ],
   "source": [
    "def extract_msg(message_f):\n",
    "    a_list = message_f.split( )\n",
    "    even_word = lambda x: (len(x)%2==0)\n",
    "    b_list = filter(even_word, a_list)\n",
    "    final_msg = \" \".join(b_list)\n",
    "    return(final_msg)\n",
    "secret_msg_4=extract_msg(message_6) \n",
    "print(secret_msg_4)    \n",
    "     "
   ]
  },
  {
   "cell_type": "markdown",
   "metadata": {},
   "source": [
    "# Message Writing"
   ]
  },
  {
   "cell_type": "code",
   "execution_count": 54,
   "metadata": {},
   "outputs": [
    {
     "name": "stdout",
     "output_type": "stream",
     "text": [
      "sentence= you are now 1 step closer to become Data Scientist\n"
     ]
    }
   ],
   "source": [
    "message_parts=[secret_msg_3, secret_msg_1, secret_msg_4, secret_msg_2]\n",
    "secret_msg = \" \".join(message_parts)\n",
    "print('sentence=',secret_msg)"
   ]
  },
  {
   "cell_type": "code",
   "execution_count": 62,
   "metadata": {},
   "outputs": [],
   "source": [
    "final_path= r'C:\\Users\\Lenovo\\Desktop\\jupyrt_files\\spy-data\\file.yaml.txt'"
   ]
  },
  {
   "cell_type": "code",
   "execution_count": 63,
   "metadata": {},
   "outputs": [],
   "source": [
    "def write_file(secret_msg,path):\n",
    "    f = open(path, 'a+')\n",
    "    f.write(secret_msg)\n",
    "    f.close()\n"
   ]
  },
  {
   "cell_type": "code",
   "execution_count": 64,
   "metadata": {},
   "outputs": [],
   "source": [
    "write_file(secret_msg,final_path)"
   ]
  },
  {
   "cell_type": "code",
   "execution_count": 65,
   "metadata": {},
   "outputs": [
    {
     "data": {
      "text/plain": [
       "'This is a sample message.you are now 1 step closer to become Data Scientist'"
      ]
     },
     "execution_count": 65,
     "metadata": {},
     "output_type": "execute_result"
    }
   ],
   "source": [
    "read_file(r'C:\\Users\\Lenovo\\Desktop\\jupyrt_files\\spy-data\\file.yaml.txt')"
   ]
  },
  {
   "cell_type": "code",
   "execution_count": null,
   "metadata": {},
   "outputs": [],
   "source": []
  }
 ],
 "metadata": {
  "kernelspec": {
   "display_name": "Python 3",
   "language": "python",
   "name": "python3"
  },
  "language_info": {
   "codemirror_mode": {
    "name": "ipython",
    "version": 3
   },
   "file_extension": ".py",
   "mimetype": "text/x-python",
   "name": "python",
   "nbconvert_exporter": "python",
   "pygments_lexer": "ipython3",
   "version": "3.6.4"
  }
 },
 "nbformat": 4,
 "nbformat_minor": 2
}
